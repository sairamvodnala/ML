{
 "cells": [
  {
   "cell_type": "markdown",
   "metadata": {},
   "source": [
    "Write a function so that the columns of the output matrix are powers of the input\n",
    "vector.\n",
    "The order of the powers is determined by the increasing boolean argument. Specifically, when\n",
    "increasing is False, the i-th output column is the input vector raised element-wise to the power\n",
    "of N - i - 1.\n",
    "\n",
    "HINT: Such a matrix with a geometric progression in each row is named for Alexandre-\n",
    "Theophile Vandermonde."
   ]
  },
  {
   "cell_type": "code",
   "execution_count": 8,
   "metadata": {},
   "outputs": [
    {
     "name": "stdout",
     "output_type": "stream",
     "text": [
      "[[ 8  4  2  1]\n",
      " [27  9  3  1]\n",
      " [64 16  4  1]]\n"
     ]
    }
   ],
   "source": [
    "import numpy as np\n",
    "N = 4\n",
    "a = np.array([2,3,4]) \n",
    "def  Vandermond(a):\n",
    "    print(np.column_stack([a**(N-1-i) for i in range(N)]))\n",
    "Vandermond(a)"
   ]
  },
  {
   "cell_type": "markdown",
   "metadata": {},
   "source": [
    "Question: Write a function to find moving average in an array over a window:\n",
    "Test it over [3, 5, 7, 2, 8, 10, 11, 65, 72, 81, 99, 100, 150] and window of 3."
   ]
  },
  {
   "cell_type": "code",
   "execution_count": 11,
   "metadata": {},
   "outputs": [
    {
     "name": "stdout",
     "output_type": "stream",
     "text": [
      "Enter number of elements : 13\n",
      "3\n",
      "5\n",
      "7\n",
      "2\n",
      "8\n",
      "10\n",
      "11\n",
      "65\n",
      "72\n",
      "81\n",
      "99\n",
      "100\n",
      "150\n",
      "Sequence array =  [  3   5   7   2   8  10  11  65  72  81  99 100 150]\n",
      "Enter window size 3\n",
      "OUTPUT IS:  [  5.           4.66666667   5.66666667   6.66666667   9.66666667\n",
      "  28.66666667  49.33333333  72.66666667  84.          93.33333333\n",
      " 116.33333333]\n"
     ]
    }
   ],
   "source": [
    "import numpy as np\n",
    "lst = []                                          # creating an empty list \n",
    "n = int(input(\"Enter number of elements : \"))     # number of elemetns as input \n",
    "for i in range(0, n): \n",
    "    element = int(input()) \n",
    "    lst.append(element)                           # adding the element    \n",
    "lst = np.array(lst)                               # converting list to array\n",
    "print(\"Sequence array = \",lst) \n",
    "\n",
    "k = int(input(\"Enter window size \"))     #window size\n",
    "z = []                                   # creating an empty list\n",
    "for i in range(n-k+1):\n",
    "    sum = 0\n",
    "    for j in range(k):\n",
    "        sum = sum + lst[i+j]        \n",
    "    average = sum/k\n",
    "    z.append(average)                        #adding average to empty list    \n",
    "z = np.array(z)\n",
    "print(\"OUTPUT IS: \",z.T)"
   ]
  },
  {
   "cell_type": "code",
   "execution_count": null,
   "metadata": {},
   "outputs": [],
   "source": []
  }
 ],
 "metadata": {
  "kernelspec": {
   "display_name": "Python 3",
   "language": "python",
   "name": "python3"
  },
  "language_info": {
   "codemirror_mode": {
    "name": "ipython",
    "version": 3
   },
   "file_extension": ".py",
   "mimetype": "text/x-python",
   "name": "python",
   "nbconvert_exporter": "python",
   "pygments_lexer": "ipython3",
   "version": "3.7.3"
  }
 },
 "nbformat": 4,
 "nbformat_minor": 2
}
